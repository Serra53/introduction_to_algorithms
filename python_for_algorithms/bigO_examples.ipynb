{
 "metadata": {
  "language_info": {
   "codemirror_mode": {
    "name": "ipython",
    "version": 3
   },
   "file_extension": ".py",
   "mimetype": "text/x-python",
   "name": "python",
   "nbconvert_exporter": "python",
   "pygments_lexer": "ipython3",
   "version": "3.7.6-final"
  },
  "orig_nbformat": 2,
  "kernelspec": {
   "name": "python37664bit9c6690504cb44ba4bcf48a61d72ff583",
   "display_name": "Python 3.7.6 64-bit"
  }
 },
 "nbformat": 4,
 "nbformat_minor": 2,
 "cells": [
  {
   "cell_type": "markdown",
   "metadata": {},
   "source": [
    "## O(1) Constant"
   ]
  },
  {
   "cell_type": "code",
   "execution_count": 3,
   "metadata": {
    "tags": []
   },
   "outputs": [
    {
     "output_type": "stream",
     "name": "stdout",
     "text": "1\n"
    }
   ],
   "source": [
    "def func_constant(values):\n",
    "    print(values[0])\n",
    "\n",
    "\n",
    "func_constant([1,2,3,4])"
   ]
  },
  {
   "cell_type": "markdown",
   "metadata": {},
   "source": [
    "## O(n) Linear\n"
   ]
  },
  {
   "cell_type": "code",
   "execution_count": 6,
   "metadata": {
    "tags": []
   },
   "outputs": [
    {
     "output_type": "stream",
     "name": "stdout",
     "text": "1\n2\n3\n4\n"
    }
   ],
   "source": [
    "def func_linear(values):\n",
    "    for i in values:\n",
    "        print(i)\n",
    "\n",
    "func_linear([1,2,3,4])"
   ]
  },
  {
   "cell_type": "markdown",
   "metadata": {},
   "source": [
    "## O(n^2) Quadratic"
   ]
  },
  {
   "cell_type": "code",
   "execution_count": 16,
   "metadata": {
    "tags": []
   },
   "outputs": [
    {
     "output_type": "stream",
     "name": "stdout",
     "text": "1 1\n1 2\n1 3\n1 4\n2 1\n2 2\n2 3\n2 4\n3 1\n3 2\n3 3\n3 4\n4 1\n4 2\n4 3\n4 4\n"
    }
   ],
   "source": [
    "def func_quadratic(values):\n",
    "    #nested loop\n",
    "    for i in values:\n",
    "        for j in values:\n",
    "            print (i,j)\n",
    "\n",
    "func_quadratic([1,2,3,4]) "
   ]
  },
  {
   "cell_type": "code",
   "execution_count": null,
   "metadata": {
    "tags": []
   },
   "outputs": [],
   "source": [
    "def print_once(lst):\n",
    "    '''\n",
    "    Prints all items once\n",
    "    '''\n",
    "    for val in lst:\n",
    "        print (val)\n",
    "\n",
    "print_once([1,2,3,4])"
   ]
  },
  {
   "cell_type": "markdown",
   "metadata": {},
   "source": [
    "The print_once() function is O(n) since it will scale linearly with the input. What about the next example?"
   ]
  },
  {
   "cell_type": "code",
   "execution_count": 19,
   "metadata": {
    "tags": []
   },
   "outputs": [
    {
     "output_type": "stream",
     "name": "stdout",
     "text": "1\n2\n3\n4\n1\n2\n3\n4\n"
    }
   ],
   "source": [
    "#O(2n)\n",
    "def print_2(values): \n",
    "    for i in values:\n",
    "        print(i)\n",
    "\n",
    "    for j in values:\n",
    "        print(j)\n",
    "\n",
    "# this is linear 2n\n",
    "print_2([1,2,3,4,])"
   ]
  },
  {
   "cell_type": "markdown",
   "metadata": {},
   "source": [
    "We can see that the first function will print O(n) items and the second will print O(2n) items. However for n going to inifinity the constant can be dropped, since it will not have a large effect, so both functions are O(n)."
   ]
  },
  {
   "cell_type": "code",
   "execution_count": 42,
   "metadata": {
    "tags": []
   },
   "outputs": [
    {
     "output_type": "stream",
     "name": "stdout",
     "text": "0\n51\n54\n57\n60\n63\n66\n69\n72\n75\n78\n81\n84\n87\n90\n93\n96\n99\nHello World.\nHello World.\nHello World.\nHello World.\nHello World.\nHello World.\nHello World.\nHello World.\nHello World.\nHello World.\n"
    }
   ],
   "source": [
    "def comp(values):\n",
    "\n",
    "    print(values[0]) # O(1)\n",
    "    #gives you the floor of the division\n",
    "    ###\n",
    "    m = len(values)//2 #O(n/2)\n",
    "    for val in values[m:]: \n",
    "        print(val)\n",
    "\n",
    "    ###\n",
    "\n",
    "    for i in range(10):     #O(10)\n",
    "        print(\"Hello World.\")\n",
    "\n",
    "\n",
    "lst = [i for i in range(0,100,3)]\n",
    "comp(lst)"
   ]
  },
  {
   "cell_type": "markdown",
   "metadata": {},
   "source": [
    "So let's break down the operations here. We can combine each operation to get the total Big-O of the function:\n",
    "\n",
    "$O\n",
    "(\n",
    "1\n",
    "+\n",
    "n\n",
    "/\n",
    "2\n",
    "+\n",
    "10\n",
    ")$\n",
    " \n",
    "\n",
    "We can see that as n grows larger the 1 and 10 terms become insignificant and the 1/2 term multiplied against n will also not have much of an effect as n goes towards infinity. This means the function is simply \n",
    "\n",
    "### __O(n)__!"
   ]
  },
  {
   "cell_type": "code",
   "execution_count": 50,
   "metadata": {
    "tags": []
   },
   "outputs": [
    {
     "output_type": "stream",
     "name": "stdout",
     "text": "True\nTrue\n"
    }
   ],
   "source": [
    "def matcher(lst, match):\n",
    "\n",
    "    for item in lst:\n",
    "        if item == match:\n",
    "            return True\n",
    "    return False\n",
    "\n",
    "lst = [i for i in range(0,100,1)]\n",
    "\n",
    "print(matcher(lst,1))\n",
    "print(matcher(lst,72))"
   ]
  },
  {
   "cell_type": "markdown",
   "metadata": {},
   "source": [
    "Note that in the first scenario, the best case was actually O(1), since the match was found at the first element. In the case where there is no match, every element must be checked, this results in a worst case time of O(n). Later on we will also discuss average case time."
   ]
  },
  {
   "cell_type": "markdown",
   "metadata": {},
   "source": [
    "### Space Complexity"
   ]
  },
  {
   "cell_type": "code",
   "execution_count": 54,
   "metadata": {},
   "outputs": [
    {
     "output_type": "execute_result",
     "data": {
      "text/plain": "['new', 'new', 'new', 'new', 'new']"
     },
     "metadata": {},
     "execution_count": 54
    }
   ],
   "source": [
    "def create_list(n):\n",
    "    new_list = []\n",
    "    for num in range(n):\n",
    "        new_list.append('new')\n",
    "\n",
    "    return new_list\n",
    "\n",
    "#Time Complexity -> O(n)\n",
    "#Space Complexity -> O(n)\n",
    "create_list(5)"
   ]
  },
  {
   "cell_type": "code",
   "execution_count": 55,
   "metadata": {},
   "outputs": [
    {
     "output_type": "execute_result",
     "data": {
      "text/plain": "['new', 'new', 'new', 'new', 'new']"
     },
     "metadata": {},
     "execution_count": 55
    }
   ],
   "source": [
    "def printer(n):\n",
    "    for num in range(n):\n",
    "        print(\"new\")\n",
    "\n",
    "\n",
    "#Time Complexity -> O(n)\n",
    "#Space Complexity -> O(1)\n",
    "create_list(5)"
   ]
  },
  {
   "cell_type": "markdown",
   "metadata": {},
   "source": [
    "## Exercises"
   ]
  },
  {
   "cell_type": "code",
   "execution_count": 4,
   "metadata": {
    "tags": []
   },
   "outputs": [
    {
     "output_type": "stream",
     "name": "stdout",
     "text": "hi!\nhi!\nhi!\nhi!\nhi!\nhi!\nhi!\nhi!\nhi!\n"
    }
   ],
   "source": [
    "n=3\n",
    "for x in range(n): #O(n)\n",
    "   for y in range(n): #O(n)\n",
    "      print ('hi!')\n",
    "\n",
    "#O(n**2)"
   ]
  },
  {
   "cell_type": "code",
   "execution_count": 6,
   "metadata": {
    "tags": []
   },
   "outputs": [
    {
     "output_type": "stream",
     "name": "stdout",
     "text": "done\ndone\ndone\n"
    }
   ],
   "source": [
    "for val in range(n): #O(n)\n",
    "     print ('done')"
   ]
  },
  {
   "cell_type": "code",
   "execution_count": 8,
   "metadata": {
    "tags": []
   },
   "outputs": [
    {
     "output_type": "stream",
     "name": "stdout",
     "text": "10\n5\n2\n1\n0\n"
    }
   ],
   "source": [
    "x = 20\n",
    "while x > 0:\n",
    "   y = 2 + 2\n",
    "   x = x // 2\n",
    "   print(x)\n",
    "\n",
    "## Note this is tricky, but x is cut in half each time through the loop, so it will only take log(n) iterations! Refer to the HW reading assignment for more info!"
   ]
  },
  {
   "cell_type": "code",
   "execution_count": 13,
   "metadata": {
    "tags": []
   },
   "outputs": [],
   "source": [
    "w = 0\n",
    "n = 20\n",
    "for x in range(n): #O(n)\n",
    "   w = w + 1\n",
    " \n",
    "for y in range(n): #O(n)\n",
    "   w = w - 1\n"
   ]
  },
  {
   "cell_type": "code",
   "execution_count": null,
   "metadata": {},
   "outputs": [],
   "source": []
  }
 ]
}