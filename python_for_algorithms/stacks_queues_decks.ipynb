{
 "metadata": {
  "language_info": {
   "codemirror_mode": {
    "name": "ipython",
    "version": 3
   },
   "file_extension": ".py",
   "mimetype": "text/x-python",
   "name": "python",
   "nbconvert_exporter": "python",
   "pygments_lexer": "ipython3",
   "version": "3.7.6-final"
  },
  "orig_nbformat": 2,
  "kernelspec": {
   "name": "python37664bit9c6690504cb44ba4bcf48a61d72ff583",
   "display_name": "Python 3.7.6 64-bit"
  }
 },
 "nbformat": 4,
 "nbformat_minor": 2,
 "cells": [
  {
   "cell_type": "markdown",
   "metadata": {},
   "source": [
    "## Stacks\n",
    "\n",
    "A stack is an ordered collection of items where the addition of new items and the removal of existing items always takes place at the same end.  \n",
    "This end is commonly referred to  as the 'top'.  \n",
    "The end opposite to the top is know as the 'base'.  \n",
    "Newer items are in the top, older items are in the base.  \n"
   ]
  },
  {
   "cell_type": "markdown",
   "metadata": {},
   "source": [
    "## Implementation of a Stack"
   ]
  },
  {
   "cell_type": "code",
   "execution_count": 31,
   "metadata": {
    "tags": []
   },
   "outputs": [
    {
     "output_type": "stream",
     "name": "stdout",
     "text": "True\nFalse\n5\n3\n5\n3\n6\n"
    }
   ],
   "source": [
    "class Stack(object):\n",
    "\n",
    "    def __init__(self):\n",
    "        self.items = []\n",
    "    \n",
    "    def push(self, item):\n",
    "        self.items.append(item)\n",
    "\n",
    "    def pop(self):\n",
    "        return self.items.pop()\n",
    "\n",
    "    def peak(self):\n",
    "        return self.items[-1]\n",
    "\n",
    "    def isEmpty(self):\n",
    "        return self.items == []\n",
    "\n",
    "    def size(self):\n",
    "        return len(self.items)\n",
    "\n",
    "    \n",
    "\n",
    "stk = Stack()\n",
    "print(stk.isEmpty())\n",
    "stk.push(1)\n",
    "stk.push(8)\n",
    "stk.push(5)\n",
    "print(stk.isEmpty())\n",
    "print(stk.peak())\n",
    "print(stk.size())\n",
    "print(stk.pop())\n",
    "stk.push(6)\n",
    "print(stk.size())\n",
    "print(stk.pop())\n",
    "stk.push('six')\n",
    "\n"
   ]
  },
  {
   "cell_type": "code",
   "execution_count": null,
   "metadata": {},
   "outputs": [],
   "source": []
  }
 ]
}