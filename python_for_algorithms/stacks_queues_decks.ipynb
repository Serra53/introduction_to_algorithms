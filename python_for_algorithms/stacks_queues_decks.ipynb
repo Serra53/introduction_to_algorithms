{
 "cells": [
  {
   "cell_type": "markdown",
   "metadata": {},
   "source": [
    "## Stacks\n",
    "\n",
    "A stack is an ordered collection of items where the addition of new items and the removal of existing items always takes place at the same end.  \n",
    "This end is commonly referred to  as the 'top'.  \n",
    "The end opposite to the top is know as the 'base'.  \n",
    "Newer items are in the top, older items are in the base.  \n"
   ]
  },
  {
   "cell_type": "markdown",
   "metadata": {},
   "source": [
    "## Implementation of a Stack"
   ]
  },
  {
   "cell_type": "code",
   "execution_count": 31,
   "metadata": {
    "tags": []
   },
   "outputs": [
    {
     "name": "stdout",
     "output_type": "stream",
     "text": [
      "True\n",
      "False\n",
      "5\n",
      "3\n",
      "5\n",
      "3\n",
      "6\n"
     ]
    }
   ],
   "source": [
    "class Stack(object):\n",
    "\n",
    "    def __init__(self):\n",
    "        self.items = []\n",
    "    \n",
    "    def push(self, item):\n",
    "        self.items.append(item)\n",
    "\n",
    "    def pop(self):\n",
    "        return self.items.pop()\n",
    "\n",
    "    def peak(self):\n",
    "        return self.items[-1]\n",
    "\n",
    "    def isEmpty(self):\n",
    "        return self.items == []\n",
    "\n",
    "    def size(self):\n",
    "        return len(self.items)\n",
    "\n",
    "    \n",
    "\n",
    "stk = Stack()\n",
    "print(stk.isEmpty())\n",
    "stk.push(1)\n",
    "stk.push(8)\n",
    "stk.push(5)\n",
    "print(stk.isEmpty())\n",
    "print(stk.peak())\n",
    "print(stk.size())\n",
    "print(stk.pop())\n",
    "stk.push(6)\n",
    "print(stk.size())\n",
    "print(stk.pop())\n",
    "stk.push('six')\n",
    "\n"
   ]
  },
  {
   "cell_type": "markdown",
   "metadata": {},
   "source": [
    "### Queue\n",
    "\n",
    "The most recently added item in the queue must wait at the end of the collection.  \n",
    "The item that has been in the collection the longest is at the front.   \n",
    "This ordering principle s sometimes called FIFO, first-in first-out.  \n",
    "It is also know as 'first-come first-served'.  "
   ]
  },
  {
   "cell_type": "code",
   "execution_count": 6,
   "metadata": {},
   "outputs": [
    {
     "name": "stdout",
     "output_type": "stream",
     "text": [
      "7\n",
      "1\n",
      "Elements\n",
      "19\n",
      "16\n",
      "13\n",
      "10\n",
      "7\n",
      "4\n"
     ]
    }
   ],
   "source": [
    "class Queue(object):\n",
    "    \n",
    "    def __init__(self):\n",
    "        self.items = []\n",
    "        \n",
    "    def enqueue(self, item):\n",
    "        self.items.insert(0, item)\n",
    "        \n",
    "    def dequeue(self):\n",
    "        return self.items.pop()\n",
    "        \n",
    "    def isEmpty(self):\n",
    "        return self.items == []\n",
    "        \n",
    "    def size(self):\n",
    "        return len(self.items)\n",
    "    \n",
    "\n",
    "q = Queue()\n",
    "for i in range(1,20, 3):\n",
    "    q.enqueue(i)\n",
    "print(q.size())\n",
    "print(q.dequeue())\n",
    "\n",
    "print(\"Elements\")\n",
    "for i in q.items:\n",
    "    print(i)"
   ]
  },
  {
   "cell_type": "markdown",
   "metadata": {},
   "source": [
    "## Deque\n",
    "\n",
    "A deque also know as a double-ended queue, is an ordered collection of items similar to the queue.  \n",
    "It has two ends, a front and a read, and the items remain positioned in the collections.  \n",
    "What makes a deque different is the inrestrictive nature of adding and removing items.\n",
    "New items can be added at either the front or the rear."
   ]
  },
  {
   "cell_type": "code",
   "execution_count": 32,
   "metadata": {},
   "outputs": [
    {
     "name": "stdout",
     "output_type": "stream",
     "text": [
      "[6, 2, 20, 4, 20, 27, 3, 19, 1, 3]\n",
      "[2, 20, 4, 20, 27, 3, 19, 1]\n"
     ]
    }
   ],
   "source": [
    "import numpy as np\n",
    "\n",
    "class Deque:\n",
    "    \n",
    "    def __init__(self):\n",
    "        self.items = []\n",
    "        \n",
    "    def addFront(self, item):\n",
    "        return self.items.insert(0, item)\n",
    "        \n",
    "    def addRear(self, item):\n",
    "        return self.items.append(item)\n",
    "        \n",
    "    def removeFront(self):\n",
    "        return self.items.pop(0)\n",
    "        \n",
    "    def removeRear(self):\n",
    "        return self.items.pop()\n",
    "        \n",
    "    def isEmpty(self):\n",
    "        return self.items == []\n",
    "        \n",
    "    def size(self):\n",
    "        return len(self.items)\n",
    "    \n",
    "dq = Deque()\n",
    "\n",
    "for i in np.random.randint(0, 30, 10):\n",
    "    if i % 2 == 0:\n",
    "        dq.addFront(i)\n",
    "    else:\n",
    "        dq.addRear(i)\n",
    "\n",
    "print(dq.items)\n",
    "dq.removeRear()\n",
    "dq.removeFront()\n",
    "print(dq.items)\n"
   ]
  },
  {
   "cell_type": "code",
   "execution_count": null,
   "metadata": {},
   "outputs": [],
   "source": []
  }
 ],
 "metadata": {
  "kernelspec": {
   "display_name": "Python 3",
   "language": "python",
   "name": "python3"
  },
  "language_info": {
   "codemirror_mode": {
    "name": "ipython",
    "version": 3
   },
   "file_extension": ".py",
   "mimetype": "text/x-python",
   "name": "python",
   "nbconvert_exporter": "python",
   "pygments_lexer": "ipython3",
   "version": "3.6.9"
  }
 },
 "nbformat": 4,
 "nbformat_minor": 4
}
