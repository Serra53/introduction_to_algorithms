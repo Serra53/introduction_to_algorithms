{
 "cells": [
  {
   "cell_type": "markdown",
   "metadata": {},
   "source": [
    "# Interview Questions"
   ]
  },
  {
   "cell_type": "markdown",
   "metadata": {},
   "source": [
    "## Anagram Check"
   ]
  },
  {
   "cell_type": "code",
   "execution_count": 9,
   "metadata": {
    "tags": []
   },
   "outputs": [
    {
     "name": "stdout",
     "output_type": "stream",
     "text": [
      "True\n"
     ]
    }
   ],
   "source": [
    "def check_if_anagram(string1, string2):\n",
    "    sorted_1 = sorted(string1.lower().replace(' ', ''))\n",
    "    sorted_2 = sorted(string2.lower().replace(' ', ''))\n",
    "    return sorted_1 == sorted_2 \n",
    "\n",
    "res = check_if_anagram(\"clint eastwood\", \"old west action\")\n",
    "print(res)"
   ]
  },
  {
   "cell_type": "code",
   "execution_count": 17,
   "metadata": {
    "tags": []
   },
   "outputs": [
    {
     "name": "stdout",
     "output_type": "stream",
     "text": [
      "True\n",
      "True\n"
     ]
    }
   ],
   "source": [
    "## more pythonic\n",
    "\n",
    "def hash_count(s):\n",
    "    count = {}\n",
    "    for i in s:\n",
    "        if i not in count.keys():\n",
    "            count[i] = 1\n",
    "        else:\n",
    "            count[i] += 1\n",
    "    return count\n",
    "\n",
    "\n",
    "def anagram_2(s1, s2):\n",
    "    s1 = s1.lower().replace(' ', '')\n",
    "    s2 = s2.lower().replace(' ', '')\n",
    "    if len(s1) != len(s2):\n",
    "        return False\n",
    "    \n",
    "    return hash_count(s1) == hash_count(s2)\n",
    "\n",
    "\n",
    "\n",
    "## more algorithmic\n",
    "def anagram_3(s1, s2):\n",
    "    s1 = s1.lower().replace(' ', '')\n",
    "    s2 = s2.lower().replace(' ', '')\n",
    "    if len(s1) != len(s2):\n",
    "        return False\n",
    "    \n",
    "    count = {}\n",
    "\n",
    "    for i in s1:\n",
    "        if i not in count:\n",
    "            count[i] = 1\n",
    "        else:\n",
    "            count[i] += 1\n",
    "\n",
    "    for i in s2:\n",
    "        if i not in count:\n",
    "            count[i] = 1\n",
    "        else:\n",
    "            count[i] -= 1\n",
    "  \n",
    "    for k in count:\n",
    "        if count[k] != 0:\n",
    "            return False\n",
    "    return True\n",
    "\n",
    "res = anagram_2(\"clint eastwood\", \"old west action\")\n",
    "print(res)\n",
    "res = anagram_3(\"clint eastwood\", \"old west action\")\n",
    "print(res)"
   ]
  },
  {
   "cell_type": "markdown",
   "metadata": {},
   "source": [
    "## Array Pair Sum"
   ]
  },
  {
   "cell_type": "code",
   "execution_count": 12,
   "metadata": {
    "tags": []
   },
   "outputs": [
    {
     "name": "stdout",
     "output_type": "stream",
     "text": [
      "1 3\n",
      "1\n",
      "2 2\n",
      "2\n",
      "2 2\n",
      "True\n",
      "5 -1\n",
      "5\n",
      "4 0\n",
      "4\n",
      "0 4\n",
      "True\n",
      "-1 5\n",
      "True\n",
      "3 1\n",
      "True\n"
     ]
    },
    {
     "data": {
      "text/plain": [
       "{(-1, 5), (0, 4), (1, 3), (2, 2)}"
      ]
     },
     "execution_count": 12,
     "metadata": {},
     "output_type": "execute_result"
    }
   ],
   "source": [
    "def pair_sum(ls, k):\n",
    "    \n",
    "    if len(ls)<2:\n",
    "        return\n",
    "\n",
    "    seen = set()\n",
    "    output = set()\n",
    "\n",
    "    for num in ls:\n",
    "        target = k-num\n",
    "        \n",
    "        print(num, target)\n",
    "        if target not in seen:\n",
    "            seen.add(num)\n",
    "        else:\n",
    "            output.add( (min(num, target), max(num, target)) )\n",
    "            print('True')\n",
    "    \n",
    "    return output\n",
    "        \n",
    "\n",
    "pair_sum([1,2,2,5,4,0,-1,3], 4)"
   ]
  },
  {
   "cell_type": "markdown",
   "metadata": {},
   "source": [
    "## Finding the missing element"
   ]
  },
  {
   "cell_type": "code",
   "execution_count": 25,
   "metadata": {},
   "outputs": [
    {
     "data": {
      "text/plain": [
       "(4, 5)"
      ]
     },
     "execution_count": 25,
     "metadata": {},
     "output_type": "execute_result"
    }
   ],
   "source": [
    "def finder(ls1, ls2):\n",
    "    \n",
    "    target = sum(ls1) - sum(ls2)\n",
    "    for i in range(len(ls1)):\n",
    "        if ls1[i] == target:\n",
    "            return i, target\n",
    "            \n",
    "finder([1,2,3,4,5,6,7], [3,7,2,1,4,6])"
   ]
  },
  {
   "cell_type": "code",
   "execution_count": null,
   "metadata": {},
   "outputs": [],
   "source": []
  }
 ],
 "metadata": {
  "kernelspec": {
   "display_name": "Python 3.6.9 64-bit",
   "language": "python",
   "name": "python36964bit2c5231b1039c45b8b8c3395dd8b68a2f"
  },
  "language_info": {
   "codemirror_mode": {
    "name": "ipython",
    "version": 3
   },
   "file_extension": ".py",
   "mimetype": "text/x-python",
   "name": "python",
   "nbconvert_exporter": "python",
   "pygments_lexer": "ipython3",
   "version": "3.6.9"
  }
 },
 "nbformat": 4,
 "nbformat_minor": 4
}
