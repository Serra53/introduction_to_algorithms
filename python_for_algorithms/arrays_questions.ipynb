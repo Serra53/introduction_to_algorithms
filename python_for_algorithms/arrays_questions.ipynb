{
 "cells": [
  {
   "cell_type": "markdown",
   "metadata": {},
   "source": [
    "# Interview Questions"
   ]
  },
  {
   "cell_type": "markdown",
   "metadata": {},
   "source": [
    "## Anagram Check"
   ]
  },
  {
   "cell_type": "code",
   "execution_count": 9,
   "metadata": {
    "tags": []
   },
   "outputs": [
    {
     "name": "stdout",
     "output_type": "stream",
     "text": [
      "True\n"
     ]
    }
   ],
   "source": [
    "def check_if_anagram(string1, string2):\n",
    "    sorted_1 = sorted(string1.lower().replace(' ', ''))\n",
    "    sorted_2 = sorted(string2.lower().replace(' ', ''))\n",
    "    return sorted_1 == sorted_2 \n",
    "\n",
    "res = check_if_anagram(\"clint eastwood\", \"old west action\")\n",
    "print(res)"
   ]
  },
  {
   "cell_type": "code",
   "execution_count": 17,
   "metadata": {
    "tags": []
   },
   "outputs": [
    {
     "name": "stdout",
     "output_type": "stream",
     "text": [
      "True\n",
      "True\n"
     ]
    }
   ],
   "source": [
    "## more pythonic\n",
    "\n",
    "def hash_count(s):\n",
    "    count = {}\n",
    "    for i in s:\n",
    "        if i not in count.keys():\n",
    "            count[i] = 1\n",
    "        else:\n",
    "            count[i] += 1\n",
    "    return count\n",
    "\n",
    "\n",
    "def anagram_2(s1, s2):\n",
    "    s1 = s1.lower().replace(' ', '')\n",
    "    s2 = s2.lower().replace(' ', '')\n",
    "    if len(s1) != len(s2):\n",
    "        return False\n",
    "    \n",
    "    return hash_count(s1) == hash_count(s2)\n",
    "\n",
    "\n",
    "\n",
    "## more algorithmic\n",
    "def anagram_3(s1, s2):\n",
    "    s1 = s1.lower().replace(' ', '')\n",
    "    s2 = s2.lower().replace(' ', '')\n",
    "    if len(s1) != len(s2):\n",
    "        return False\n",
    "    \n",
    "    count = {}\n",
    "\n",
    "    for i in s1:\n",
    "        if i not in count:\n",
    "            count[i] = 1\n",
    "        else:\n",
    "            count[i] += 1\n",
    "\n",
    "    for i in s2:\n",
    "        if i not in count:\n",
    "            count[i] = 1\n",
    "        else:\n",
    "            count[i] -= 1\n",
    "  \n",
    "    for k in count:\n",
    "        if count[k] != 0:\n",
    "            return False\n",
    "    return True\n",
    "\n",
    "res = anagram_2(\"clint eastwood\", \"old west action\")\n",
    "print(res)\n",
    "res = anagram_3(\"clint eastwood\", \"old west action\")\n",
    "print(res)"
   ]
  },
  {
   "cell_type": "markdown",
   "metadata": {},
   "source": [
    "## Array Pair Sum"
   ]
  },
  {
   "cell_type": "code",
   "execution_count": 12,
   "metadata": {
    "tags": []
   },
   "outputs": [
    {
     "name": "stdout",
     "output_type": "stream",
     "text": [
      "1 3\n",
      "1\n",
      "2 2\n",
      "2\n",
      "2 2\n",
      "True\n",
      "5 -1\n",
      "5\n",
      "4 0\n",
      "4\n",
      "0 4\n",
      "True\n",
      "-1 5\n",
      "True\n",
      "3 1\n",
      "True\n"
     ]
    },
    {
     "data": {
      "text/plain": [
       "{(-1, 5), (0, 4), (1, 3), (2, 2)}"
      ]
     },
     "execution_count": 12,
     "metadata": {},
     "output_type": "execute_result"
    }
   ],
   "source": [
    "def pair_sum(ls, k):\n",
    "    \n",
    "    if len(ls)<2:\n",
    "        return\n",
    "\n",
    "    seen = set()\n",
    "    output = set()\n",
    "\n",
    "    for num in ls:\n",
    "        target = k-num\n",
    "        \n",
    "        print(num, target)\n",
    "        if target not in seen:\n",
    "            seen.add(num)\n",
    "        else:\n",
    "            output.add( (min(num, target), max(num, target)) )\n",
    "            print('True')\n",
    "    \n",
    "    return output\n",
    "        \n",
    "\n",
    "pair_sum([1,2,2,5,4,0,-1,3], 4)"
   ]
  },
  {
   "cell_type": "markdown",
   "metadata": {},
   "source": [
    "## Finding the missing element"
   ]
  },
  {
   "cell_type": "code",
   "execution_count": 14,
   "metadata": {
    "tags": []
   },
   "outputs": [
    {
     "name": "stdout",
     "output_type": "stream",
     "text": [
      "1 1\n",
      "2 3\n",
      "3 0\n",
      "4 4\n",
      "5 1\n",
      "6 7\n",
      "7 0\n",
      "3 3\n",
      "7 4\n",
      "2 6\n",
      "1 7\n",
      "4 3\n",
      "6 5\n",
      "[1, 2, 3, 4, 5, 6, 7, 3, 7, 2, 1, 4, 6]\n"
     ]
    }
   ],
   "source": [
    "import collections\n",
    "\n",
    "def finder(ls1, ls2):\n",
    "    \n",
    "    target = sum(ls1) - sum(ls2)\n",
    "    for i in range(len(ls1)):\n",
    "        if ls1[i] == target:\n",
    "            return target\n",
    "            \n",
    "assert finder([1,2,3,4,5,6,7], [3,7,2,1,4,6]) == 5\n",
    "assert finder([5,5,7,7], [5,7,7]) == 5\n",
    "\n",
    "\n",
    "def finder2(ls1, ls2):\n",
    "    \n",
    "    d = collections.defaultdict(int)\n",
    "    for num in ls2:\n",
    "        d[num] += 1\n",
    "\n",
    "    for num in ls1:\n",
    "        if d[num] == 0:\n",
    "            return num\n",
    "        else:\n",
    "            d[num] -= 1\n",
    "\n",
    "            \n",
    "assert finder2([1,2,3,4,5,6,7], [3,7,2,1,4,6]) == 5\n",
    "assert finder2([5,5,7,7], [5,7,7]) == 5\n",
    "\n",
    "\n",
    "\n",
    "def finderXOR(ls1,ls2):\n",
    "\n",
    "    result = 0\n",
    "    for num in ls1 + ls2:\n",
    "        result ^= num\n",
    "        print(num, result)\n",
    "    return result\n",
    "\n",
    "finderXOR([1,2,3,4,5,6,7], [3,7,2,1,4,6])\n"
   ]
  },
  {
   "cell_type": "markdown",
   "metadata": {},
   "source": [
    "## Largest Continuous Sum"
   ]
  },
  {
   "cell_type": "code",
   "execution_count": 20,
   "metadata": {
    "tags": []
   },
   "outputs": [
    {
     "name": "stdout",
     "output_type": "stream",
     "text": [
      "27\n",
      "29\n"
     ]
    }
   ],
   "source": [
    "def large_cont_sum(ls):\n",
    "\n",
    "    max_so_far = 0\n",
    "    current_seq = 0\n",
    "\n",
    "    for num in ls:\n",
    "        if (current_seq+num > current_seq):\n",
    "            current_seq += num\n",
    "        else:\n",
    "            if current_seq > max_so_far:\n",
    "                max_so_far = current_seq\n",
    "            current_seq = 0\n",
    "\n",
    "    return max_so_far        \n",
    "\n",
    "\n",
    "def large_cont_sum2(ls):\n",
    "\n",
    "    if len(ls) == 0:\n",
    "        return 0\n",
    "\n",
    "    max_sum = current_sum = ls[0]\n",
    "\n",
    "    for num in ls[1:]:\n",
    "        current_sum = max(current_sum+num, num)\n",
    "        max_sum = max(current_sum, max_sum)\n",
    "    \n",
    "    return max_sum\n",
    "\n",
    "# somethin is wrong in tghe first one\n",
    "print(large_cont_sum( [1,2,-1,3,4,10,10,-10,-1]))\n",
    "print(large_cont_sum2([1,2,-1,3,4,10,10,-10,-1]))\n",
    "\n",
    "\n",
    "            "
   ]
  },
  {
   "cell_type": "code",
   "execution_count": 15,
   "metadata": {},
   "outputs": [],
   "source": [
    "def sentence_reverasal(phrase):\n",
    "    \n",
    "    inverted_phrase = {}\n",
    "    inverted_count = len(phrase) - 1\n",
    "    for element in phrase:\n",
    "        inverted_phrase[inverted_count] = element\n",
    "        inverted_count -= 1\n",
    "    \n",
    "    inverted_stack = \"\"\n",
    "    \n",
    "    for i in range(len(phrase)):\n",
    "        inverted_stack += inverted_phrase[i] \n",
    "    \n",
    "    return inverted_stack"
   ]
  },
  {
   "cell_type": "code",
   "execution_count": 16,
   "metadata": {},
   "outputs": [
    {
     "data": {
      "text/plain": [
       "'tseb eht si sihT'"
      ]
     },
     "execution_count": 16,
     "metadata": {},
     "output_type": "execute_result"
    }
   ],
   "source": [
    "phrase = \"This is the best\"\n",
    "sentence_reverasal(phrase)"
   ]
  },
  {
   "cell_type": "code",
   "execution_count": null,
   "metadata": {},
   "outputs": [],
   "source": []
  }
 ],
 "metadata": {
  "kernelspec": {
   "display_name": "Python 3.6.9 64-bit",
   "language": "python",
   "name": "python36964bit2c5231b1039c45b8b8c3395dd8b68a2f"
  },
  "language_info": {
   "codemirror_mode": {
    "name": "ipython",
    "version": 3
   },
   "file_extension": ".py",
   "mimetype": "text/x-python",
   "name": "python",
   "nbconvert_exporter": "python",
   "pygments_lexer": "ipython3",
   "version": "3.6.9"
  }
 },
 "nbformat": 4,
 "nbformat_minor": 4
}
