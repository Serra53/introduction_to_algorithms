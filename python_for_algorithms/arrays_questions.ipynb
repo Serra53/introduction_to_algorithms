{
 "metadata": {
  "language_info": {
   "codemirror_mode": {
    "name": "ipython",
    "version": 3
   },
   "file_extension": ".py",
   "mimetype": "text/x-python",
   "name": "python",
   "nbconvert_exporter": "python",
   "pygments_lexer": "ipython3",
   "version": "3.7.4-final"
  },
  "orig_nbformat": 2,
  "kernelspec": {
   "name": "python37464bitbasecondab939734f73bb48748e9d7446f9d9b4a3",
   "display_name": "Python 3.7.4 64-bit ('base': conda)"
  }
 },
 "nbformat": 4,
 "nbformat_minor": 2,
 "cells": [
  {
   "cell_type": "markdown",
   "metadata": {},
   "source": [
    "# Interview Questions"
   ]
  },
  {
   "cell_type": "markdown",
   "metadata": {},
   "source": [
    "## Anagram Check"
   ]
  },
  {
   "cell_type": "code",
   "execution_count": 9,
   "metadata": {
    "tags": []
   },
   "outputs": [
    {
     "output_type": "stream",
     "name": "stdout",
     "text": "True\n"
    }
   ],
   "source": [
    "def check_if_anagram(string1, string2):\n",
    "    sorted_1 = sorted(string1.lower().replace(' ', ''))\n",
    "    sorted_2 = sorted(string2.lower().replace(' ', ''))\n",
    "    return sorted_1 == sorted_2 \n",
    "\n",
    "res = check_if_anagram(\"clint eastwood\", \"old west action\")\n",
    "print(res)"
   ]
  },
  {
   "cell_type": "code",
   "execution_count": 17,
   "metadata": {
    "tags": []
   },
   "outputs": [
    {
     "output_type": "stream",
     "name": "stdout",
     "text": "True\nTrue\n"
    }
   ],
   "source": [
    "## more pythonic\n",
    "\n",
    "def hash_count(s):\n",
    "    count = {}\n",
    "    for i in s:\n",
    "        if i not in count.keys():\n",
    "            count[i] = 1\n",
    "        else:\n",
    "            count[i] += 1\n",
    "    return count\n",
    "\n",
    "\n",
    "def anagram_2(s1, s2):\n",
    "    s1 = s1.lower().replace(' ', '')\n",
    "    s2 = s2.lower().replace(' ', '')\n",
    "    if len(s1) != len(s2):\n",
    "        return False\n",
    "    \n",
    "    return hash_count(s1) == hash_count(s2)\n",
    "\n",
    "\n",
    "\n",
    "## more algorithmic\n",
    "def anagram_3(s1, s2):\n",
    "    s1 = s1.lower().replace(' ', '')\n",
    "    s2 = s2.lower().replace(' ', '')\n",
    "    if len(s1) != len(s2):\n",
    "        return False\n",
    "    \n",
    "    count = {}\n",
    "\n",
    "    for i in s1:\n",
    "        if i not in count:\n",
    "            count[i] = 1\n",
    "        else:\n",
    "            count[i] += 1\n",
    "\n",
    "    for i in s2:\n",
    "        if i not in count:\n",
    "            count[i] = 1\n",
    "        else:\n",
    "            count[i] -= 1\n",
    "  \n",
    "    for k in count:\n",
    "        if count[k] != 0:\n",
    "            return False\n",
    "    return True\n",
    "\n",
    "res = anagram_2(\"clint eastwood\", \"old west action\")\n",
    "print(res)\n",
    "res = anagram_3(\"clint eastwood\", \"old west action\")\n",
    "print(res)"
   ]
  },
  {
   "cell_type": "markdown",
   "metadata": {},
   "source": [
    "## Array Pair Sum"
   ]
  },
  {
   "cell_type": "code",
   "execution_count": 3,
   "metadata": {
    "tags": []
   },
   "outputs": [
    {
     "output_type": "stream",
     "name": "stdout",
     "text": "1 2\n2 1\n4 -1\n1 2\n5 -2\n6 -3\n2 1\n6 -3\n8 -5\n2 1\n1 2\n0 3\n3 0\n1 2\n"
    },
    {
     "output_type": "execute_result",
     "data": {
      "text/plain": "{(-3, 6), (1, 2)}"
     },
     "metadata": {},
     "execution_count": 3
    }
   ],
   "source": [
    "def pair_sum(ls, k):\n",
    "\n",
    "    seen = set()\n",
    "    output = set()\n",
    "\n",
    "    for num in ls:\n",
    "        target = k-num\n",
    "        print(num, target)\n",
    "        if target not in seen:\n",
    "            seen.add(target)\n",
    "        else:\n",
    "            output.add( (min(num, target), max(num, target) ))\n",
    "    \n",
    "    return output\n",
    "        \n",
    "\n",
    "pair_sum([1,2,4,1,5,6,2,6,8,2,1,0,3,1], 3)\n"
   ]
  },
  {
   "cell_type": "code",
   "execution_count": null,
   "metadata": {},
   "outputs": [],
   "source": []
  },
  {
   "cell_type": "code",
   "execution_count": null,
   "metadata": {},
   "outputs": [],
   "source": []
  }
 ]
}