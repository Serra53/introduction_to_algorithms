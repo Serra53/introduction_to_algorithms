{
 "metadata": {
  "language_info": {
   "codemirror_mode": {
    "name": "ipython",
    "version": 3
   },
   "file_extension": ".py",
   "mimetype": "text/x-python",
   "name": "python",
   "nbconvert_exporter": "python",
   "pygments_lexer": "ipython3",
   "version": "3.7.6-final"
  },
  "orig_nbformat": 2,
  "kernelspec": {
   "name": "python37664bit9c6690504cb44ba4bcf48a61d72ff583",
   "display_name": "Python 3.7.6 64-bit"
  }
 },
 "nbformat": 4,
 "nbformat_minor": 2,
 "cells": [
  {
   "cell_type": "markdown",
   "metadata": {},
   "source": [
    "# Arrays sequences\n",
    "\n",
    "Python has 3 main types of arrays:\n",
    "- Lists\n",
    "- Tuples\n",
    "- Strings\n",
    "\n",
    "All support indexing, e.g t\\[1] =1"
   ]
  },
  {
   "cell_type": "markdown",
   "metadata": {},
   "source": [
    "## Dynamic Array\n",
    "\n",
    "Dynamic Arrays are arrays where their size doesn't need to be specified for their creation.  \n",
    "In Python, a list instance usually has more capacity then the number of elements it is currently holding."
   ]
  },
  {
   "cell_type": "code",
   "execution_count": 4,
   "metadata": {
    "tags": []
   },
   "outputs": [
    {
     "output_type": "stream",
     "name": "stdout",
     "text": "Length: 0; Size in bytes: 72\nLength: 1; Size in bytes: 104\nLength: 2; Size in bytes: 104\nLength: 3; Size in bytes: 104\nLength: 4; Size in bytes: 104\nLength: 5; Size in bytes: 136\nLength: 6; Size in bytes: 136\nLength: 7; Size in bytes: 136\nLength: 8; Size in bytes: 136\nLength: 9; Size in bytes: 200\nLength: 10; Size in bytes: 200\nLength: 11; Size in bytes: 200\nLength: 12; Size in bytes: 200\nLength: 13; Size in bytes: 200\nLength: 14; Size in bytes: 200\nLength: 15; Size in bytes: 200\nLength: 16; Size in bytes: 200\nLength: 17; Size in bytes: 272\nLength: 18; Size in bytes: 272\nLength: 19; Size in bytes: 272\nLength: 20; Size in bytes: 272\nLength: 21; Size in bytes: 272\nLength: 22; Size in bytes: 272\nLength: 23; Size in bytes: 272\nLength: 24; Size in bytes: 272\nLength: 25; Size in bytes: 272\nLength: 26; Size in bytes: 352\nLength: 27; Size in bytes: 352\nLength: 28; Size in bytes: 352\nLength: 29; Size in bytes: 352\n"
    }
   ],
   "source": [
    "import sys\n",
    "\n",
    "n = 30\n",
    "data = []\n",
    "for i in range(0, n):\n",
    "    a = len(data)\n",
    "    b = sys.getsizeof(data)\n",
    "    print(f\"Length: {a}; Size in bytes: {b}\")\n",
    "    data.append(i)"
   ]
  },
  {
   "cell_type": "markdown",
   "metadata": {},
   "source": [
    "The list element in Python works as an hermit crab, periodically grabbing more space.  "
   ]
  },
  {
   "cell_type": "code",
   "execution_count": 14,
   "metadata": {
    "tags": []
   },
   "outputs": [],
   "source": [
    "import ctypes\n",
    "\n",
    "class DynamicArray(object):\n",
    "    \n",
    "    def __init__(self):\n",
    "        self.n = 0 #actual count of the elements\n",
    "        self.capacity = 1\n",
    "        self.A = self.make_array(self.capacity)\n",
    "\n",
    "    def __len__(self):\n",
    "        return self.n\n",
    "\n",
    "    def __getitem__(self, k):\n",
    "        if not 0 <= k <= self.n:\n",
    "            return IndexError(\"K is out of bounds\")\n",
    "        return self.A[k]\n",
    "\n",
    "    def append(self, element):\n",
    "\n",
    "        if self.n == self.capacity:\n",
    "            self._resize(2*self.capacity)\n",
    "\n",
    "        self.A[self.n] = element   \n",
    "        self.n += 1\n",
    "\n",
    "    def _resize(self, new_capacity):\n",
    "        B = self.make_array(new_capacity)\n",
    "        for k in range(self.n):\n",
    "            B[k] = self.A[k]\n",
    "        \n",
    "        self.A = B\n",
    "        self.capacity = new_capacity\n",
    "\n",
    "    def make_array(self, cap):\n",
    "        return (cap * ctypes.py_object)()\n",
    "\n",
    "    "
   ]
  },
  {
   "cell_type": "code",
   "execution_count": 13,
   "metadata": {
    "tags": []
   },
   "outputs": [
    {
     "output_type": "stream",
     "name": "stdout",
     "text": "1\n2\n3\n3\n"
    }
   ],
   "source": [
    "arr = DynamicArray()\n",
    "arr.append(1)\n",
    "print(len(arr))\n",
    "arr.append(2)\n",
    "print(len(arr))\n",
    "arr.append(3)\n",
    "print(len(arr))\n",
    "print(arr[2])"
   ]
  },
  {
   "cell_type": "code",
   "execution_count": null,
   "metadata": {},
   "outputs": [],
   "source": []
  }
 ]
}